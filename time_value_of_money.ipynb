{
 "cells": [
  {
   "cell_type": "code",
   "execution_count": 1,
   "metadata": {},
   "outputs": [],
   "source": [
    "import QuantLib as ql"
   ]
  },
  {
   "attachments": {},
   "cell_type": "markdown",
   "metadata": {},
   "source": [
    "# Future value of money \n",
    "- Today I receive a cash flow of 100\n",
    "- The interest rate is 5%\n",
    "- I have to pay back the loan on the 365th day from now\n",
    "    - The exact payment AMOUNT will depend on the chosen day count convention \n",
    "- On the day the payment is due I have to pay back the received capital and the accrued interest"
   ]
  },
  {
   "cell_type": "code",
   "execution_count": 18,
   "metadata": {},
   "outputs": [
    {
     "data": {
      "text/plain": [
       "105.0"
      ]
     },
     "execution_count": 18,
     "metadata": {},
     "output_type": "execute_result"
    }
   ],
   "source": [
    "today = ql.Date.todaysDate()\n",
    "loan_amount = 100\n",
    "rate = 0.05\n",
    "length_of_loan = 365\n",
    "payment_date = today + length_of_loan\n",
    "#day_count = ql.Thirty360(ql.Thirty360.BondBasis)\n",
    "#day_count = ql.ActualActual(ql.ActualActual.Actual365)\n",
    "day_count = ql.ActualActual(ql.ActualActual.Bond)\n",
    "\n",
    "loan = ql.FixedRateCoupon(payment_date, loan_amount, rate, day_count, today, payment_date)\n",
    "\n",
    "payment = loan_amount + loan.accruedAmount(payment_date)\n",
    "payment"
   ]
  },
  {
   "attachments": {},
   "cell_type": "markdown",
   "metadata": {},
   "source": [
    "# Present value of money\n",
    "- I'm not sure why I don't get back the exact 100 NPV\n",
    "- maybe the count convention?"
   ]
  },
  {
   "cell_type": "code",
   "execution_count": 30,
   "metadata": {},
   "outputs": [
    {
     "data": {
      "text/plain": [
       "100.01333153451803"
      ]
     },
     "execution_count": 30,
     "metadata": {},
     "output_type": "execute_result"
    }
   ],
   "source": [
    "today = ql.Date.todaysDate()\n",
    "rate = 0.05\n",
    "\n",
    "cash_flows = ql.Leg()\n",
    "cash_flows.push_back(ql.SimpleCashFlow(105, today + 365))\n",
    "\n",
    "day_count = ql.ActualActual(ql.ActualActual.Bond)\n",
    "interest_rate = ql.InterestRate(rate, day_count, ql.Compounded, ql.Annual)\n",
    "\n",
    "npv = ql.CashFlows.npv(cash_flows, interest_rate, True)\n",
    "\n",
    "\n",
    "npv"
   ]
  },
  {
   "attachments": {},
   "cell_type": "markdown",
   "metadata": {},
   "source": [
    "# Simple coupon bearing bond pricing\n",
    "- The day count conventions have to be understood more clearly because I never get back the right amount  "
   ]
  },
  {
   "cell_type": "code",
   "execution_count": 32,
   "metadata": {},
   "outputs": [
    {
     "data": {
      "text/plain": [
       "100.01333153451802"
      ]
     },
     "execution_count": 32,
     "metadata": {},
     "output_type": "execute_result"
    }
   ],
   "source": [
    "# Setting the date \n",
    "date = ql.Date.todaysDate()\n",
    "\n",
    "# Day count convention\n",
    "day_count = ql.ActualActual(ql.ActualActual.Bond)\n",
    "\n",
    "# Creating the interest rate object\n",
    "rate = 0.05\n",
    "interest_rate = ql.InterestRate(rate, day_count, ql.Compounded, ql.Annual)\n",
    "\n",
    "cash_flows = ql.Leg()\n",
    "cash_flows.push_back(ql.SimpleCashFlow(5.0, date + 1 * 365))\n",
    "cash_flows.push_back(ql.SimpleCashFlow(5.0, date + 2 * 365))\n",
    "cash_flows.push_back(ql.SimpleCashFlow(105.0, date + 3 * 365))\n",
    "\n",
    "#Leg cashFlows;\n",
    "#cashFlows.push_back(boost::shared_ptr(new SimpleCashFlow(5.0, date+365)));\n",
    "#cashFlows.push_back(boost::shared_ptr(new SimpleCashFlow(5.0, date + 2*365)));\n",
    "#cashFlows.push_back(boost::shared_ptr(new SimpleCashFlow(105.0, date + 3*365)));\n",
    "\n",
    "npv = ql.CashFlows.npv(cash_flows, interest_rate, True)\n",
    "\n",
    "\n",
    "npv"
   ]
  },
  {
   "cell_type": "code",
   "execution_count": null,
   "metadata": {},
   "outputs": [],
   "source": []
  }
 ],
 "metadata": {
  "kernelspec": {
   "display_name": "bond-portfolio",
   "language": "python",
   "name": "python3"
  },
  "language_info": {
   "codemirror_mode": {
    "name": "ipython",
    "version": 3
   },
   "file_extension": ".py",
   "mimetype": "text/x-python",
   "name": "python",
   "nbconvert_exporter": "python",
   "pygments_lexer": "ipython3",
   "version": "3.11.3"
  },
  "orig_nbformat": 4
 },
 "nbformat": 4,
 "nbformat_minor": 2
}
