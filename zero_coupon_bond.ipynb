{
 "cells": [
  {
   "attachments": {},
   "cell_type": "markdown",
   "metadata": {},
   "source": [
    "# IRR for zero coupon bond\n",
    "\n",
    "- I want to do the realistic scenario as much as I can.\n",
    "- I will use this\n",
    "    - Selling box spreads (short bond)\n",
    "    - Buying T-bill (long bond)\n",
    "\n",
    "I think the examples are not going to go for my use case, so I have to be able to use quantlib."
   ]
  },
  {
   "cell_type": "code",
   "execution_count": 1,
   "metadata": {},
   "outputs": [],
   "source": [
    "import QuantLib as ql"
   ]
  },
  {
   "cell_type": "code",
   "execution_count": 4,
   "metadata": {},
   "outputs": [
    {
     "data": {
      "text/plain": [
       "620.9213230591549"
      ]
     },
     "execution_count": 4,
     "metadata": {},
     "output_type": "execute_result"
    }
   ],
   "source": [
    "# Set up the bond parameters\n",
    "face_value = 1000\n",
    "interest_rate = 0.10\n",
    "maturity_date = ql.Date(9, 3, 2028) # Maturity in 5 years\n",
    "issue_date = ql.Date(9, 3, 2023) # Issue date today\n",
    "\n",
    "# Create a bond object\n",
    "calendar = ql.UnitedStates(ql.UnitedStates.NYSE)\n",
    "#calendar = ql.NullCalendar()\n",
    "bond = ql.ZeroCouponBond(0, calendar, face_value, maturity_date)\n",
    "\n",
    "# Set up term structure\n",
    "#qflatforw = ql.FlatForward(issue_date, interest_rate, ql.Actual365Fixed())\n",
    "qflatforw = ql.FlatForward(issue_date, interest_rate, ql.ActualActual(ql.ActualActual.ISMA), ql.Compounded,ql.Annual)\n",
    "spot_curve_handle = ql.YieldTermStructureHandle(qflatforw)\n",
    "\n",
    "# Set up the bond engine\n",
    "bond_engine = ql.DiscountingBondEngine(spot_curve_handle)\n",
    "\n",
    "# Assign the bond engine to the bond object\n",
    "bond.setPricingEngine(bond_engine)\n",
    "\n",
    "## Calculate the bond price\n",
    "#price = bond.cleanPrice()\n",
    "#\n",
    "#price\n",
    "\n",
    "bond.NPV()\n",
    "#bond.cleanPrice()\n"
   ]
  },
  {
   "cell_type": "code",
   "execution_count": 6,
   "metadata": {},
   "outputs": [
    {
     "ename": "TypeError",
     "evalue": "Wrong number or type of arguments for overloaded function 'YieldTermStructure_forwardRate'.\n  Possible C/C++ prototypes are:\n    YieldTermStructure::forwardRate(Date const &,Date const &,DayCounter const &,Compounding,Frequency,bool) const\n    YieldTermStructure::forwardRate(Date const &,Date const &,DayCounter const &,Compounding,Frequency) const\n    YieldTermStructure::forwardRate(Date const &,Date const &,DayCounter const &,Compounding) const\n    YieldTermStructure::forwardRate(Time,Time,Compounding,Frequency,bool) const\n    YieldTermStructure::forwardRate(Time,Time,Compounding,Frequency) const\n    YieldTermStructure::forwardRate(Time,Time,Compounding) const\n",
     "output_type": "error",
     "traceback": [
      "\u001b[0;31m---------------------------------------------------------------------------\u001b[0m",
      "\u001b[0;31mTypeError\u001b[0m                                 Traceback (most recent call last)",
      "\u001b[0;32m/var/folders/pl/6tn7htkj6z737rrrbdjb8yq80000gn/T/ipykernel_78869/889611645.py\u001b[0m in \u001b[0;36m?\u001b[0;34m()\u001b[0m\n\u001b[1;32m      1\u001b[0m \u001b[0;31m#qflatforw = ql.FlatForward(issue_date, interest_rate, ql.Actual365Fixed())\u001b[0m\u001b[0;34m\u001b[0m\u001b[0;34m\u001b[0m\u001b[0m\n\u001b[1;32m      2\u001b[0m \u001b[0mflat_forward_curve\u001b[0m \u001b[0;34m=\u001b[0m \u001b[0mql\u001b[0m\u001b[0;34m.\u001b[0m\u001b[0mFlatForward\u001b[0m\u001b[0;34m(\u001b[0m\u001b[0missue_date\u001b[0m\u001b[0;34m,\u001b[0m \u001b[0minterest_rate\u001b[0m\u001b[0;34m,\u001b[0m \u001b[0mql\u001b[0m\u001b[0;34m.\u001b[0m\u001b[0mActualActual\u001b[0m\u001b[0;34m(\u001b[0m\u001b[0mql\u001b[0m\u001b[0;34m.\u001b[0m\u001b[0mActualActual\u001b[0m\u001b[0;34m.\u001b[0m\u001b[0mISMA\u001b[0m\u001b[0;34m)\u001b[0m\u001b[0;34m,\u001b[0m \u001b[0mql\u001b[0m\u001b[0;34m.\u001b[0m\u001b[0mCompounded\u001b[0m\u001b[0;34m,\u001b[0m\u001b[0mql\u001b[0m\u001b[0;34m.\u001b[0m\u001b[0mAnnual\u001b[0m\u001b[0;34m)\u001b[0m\u001b[0;34m\u001b[0m\u001b[0;34m\u001b[0m\u001b[0m\n\u001b[1;32m      3\u001b[0m \u001b[0;31m#spot_curve_handle = ql.YieldTermStructureHandle(qflatforw)\u001b[0m\u001b[0;34m\u001b[0m\u001b[0;34m\u001b[0m\u001b[0m\n\u001b[0;32m----> 4\u001b[0;31m \u001b[0mflat_forward_curve\u001b[0m\u001b[0;34m.\u001b[0m\u001b[0mforwardRate\u001b[0m\u001b[0;34m(\u001b[0m\u001b[0;34m)\u001b[0m\u001b[0;34m\u001b[0m\u001b[0;34m\u001b[0m\u001b[0m\n\u001b[0m",
      "\u001b[0;32m~/miniconda3/envs/bond-portfolio/lib/python3.11/site-packages/QuantLib/QuantLib.py\u001b[0m in \u001b[0;36m?\u001b[0;34m(self, *args)\u001b[0m\n\u001b[1;32m   7806\u001b[0m         r\"\"\"\n\u001b[1;32m   7807\u001b[0m         \u001b[0mforwardRate\u001b[0m\u001b[0;34m(\u001b[0m\u001b[0mYieldTermStructure\u001b[0m \u001b[0mself\u001b[0m\u001b[0;34m,\u001b[0m \u001b[0mDate\u001b[0m \u001b[0md1\u001b[0m\u001b[0;34m,\u001b[0m \u001b[0mDate\u001b[0m \u001b[0md2\u001b[0m\u001b[0;34m,\u001b[0m \u001b[0mDayCounter\u001b[0m \u001b[0marg4\u001b[0m\u001b[0;34m,\u001b[0m \u001b[0mCompounding\u001b[0m \u001b[0marg5\u001b[0m\u001b[0;34m,\u001b[0m \u001b[0mFrequency\u001b[0m \u001b[0mf\u001b[0m\u001b[0;34m=\u001b[0m\u001b[0mAnnual\u001b[0m\u001b[0;34m,\u001b[0m \u001b[0mbool\u001b[0m \u001b[0mextrapolate\u001b[0m\u001b[0;34m=\u001b[0m\u001b[0;32mFalse\u001b[0m\u001b[0;34m)\u001b[0m \u001b[0;34m->\u001b[0m \u001b[0mInterestRate\u001b[0m\u001b[0;34m\u001b[0m\u001b[0;34m\u001b[0m\u001b[0m\n\u001b[1;32m   7808\u001b[0m         \u001b[0mforwardRate\u001b[0m\u001b[0;34m(\u001b[0m\u001b[0mYieldTermStructure\u001b[0m \u001b[0mself\u001b[0m\u001b[0;34m,\u001b[0m \u001b[0mTime\u001b[0m \u001b[0mt1\u001b[0m\u001b[0;34m,\u001b[0m \u001b[0mTime\u001b[0m \u001b[0mt2\u001b[0m\u001b[0;34m,\u001b[0m \u001b[0mCompounding\u001b[0m \u001b[0marg4\u001b[0m\u001b[0;34m,\u001b[0m \u001b[0mFrequency\u001b[0m \u001b[0mf\u001b[0m\u001b[0;34m=\u001b[0m\u001b[0mAnnual\u001b[0m\u001b[0;34m,\u001b[0m \u001b[0mbool\u001b[0m \u001b[0mextrapolate\u001b[0m\u001b[0;34m=\u001b[0m\u001b[0;32mFalse\u001b[0m\u001b[0;34m)\u001b[0m \u001b[0;34m->\u001b[0m \u001b[0mInterestRate\u001b[0m\u001b[0;34m\u001b[0m\u001b[0;34m\u001b[0m\u001b[0m\n\u001b[1;32m   7809\u001b[0m         \"\"\"\n\u001b[0;32m-> 7810\u001b[0;31m         \u001b[0;32mreturn\u001b[0m \u001b[0m_QuantLib\u001b[0m\u001b[0;34m.\u001b[0m\u001b[0mYieldTermStructure_forwardRate\u001b[0m\u001b[0;34m(\u001b[0m\u001b[0mself\u001b[0m\u001b[0;34m,\u001b[0m \u001b[0;34m*\u001b[0m\u001b[0margs\u001b[0m\u001b[0;34m)\u001b[0m\u001b[0;34m\u001b[0m\u001b[0;34m\u001b[0m\u001b[0m\n\u001b[0m",
      "\u001b[0;31mTypeError\u001b[0m: Wrong number or type of arguments for overloaded function 'YieldTermStructure_forwardRate'.\n  Possible C/C++ prototypes are:\n    YieldTermStructure::forwardRate(Date const &,Date const &,DayCounter const &,Compounding,Frequency,bool) const\n    YieldTermStructure::forwardRate(Date const &,Date const &,DayCounter const &,Compounding,Frequency) const\n    YieldTermStructure::forwardRate(Date const &,Date const &,DayCounter const &,Compounding) const\n    YieldTermStructure::forwardRate(Time,Time,Compounding,Frequency,bool) const\n    YieldTermStructure::forwardRate(Time,Time,Compounding,Frequency) const\n    YieldTermStructure::forwardRate(Time,Time,Compounding) const\n"
     ]
    }
   ],
   "source": [
    "#qflatforw = ql.FlatForward(issue_date, interest_rate, ql.Actual365Fixed())\n",
    "flat_forward_curve = ql.FlatForward(issue_date, interest_rate, ql.ActualActual(ql.ActualActual.ISMA), ql.Compounded,ql.Annual)\n",
    "#spot_curve_handle = ql.YieldTermStructureHandle(qflatforw)\n",
    "flat_forward_curve"
   ]
  },
  {
   "cell_type": "code",
   "execution_count": null,
   "metadata": {},
   "outputs": [],
   "source": []
  }
 ],
 "metadata": {
  "kernelspec": {
   "display_name": "Python 3",
   "language": "python",
   "name": "python3"
  },
  "language_info": {
   "codemirror_mode": {
    "name": "ipython",
    "version": 3
   },
   "file_extension": ".py",
   "mimetype": "text/x-python",
   "name": "python",
   "nbconvert_exporter": "python",
   "pygments_lexer": "ipython3",
   "version": "3.11.3"
  },
  "orig_nbformat": 4
 },
 "nbformat": 4,
 "nbformat_minor": 2
}
