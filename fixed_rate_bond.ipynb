{
 "cells": [
  {
   "cell_type": "code",
   "execution_count": 2,
   "metadata": {},
   "outputs": [],
   "source": [
    "import QuantLib as ql"
   ]
  },
  {
   "cell_type": "code",
   "execution_count": 12,
   "metadata": {},
   "outputs": [
    {
     "name": "stdout",
     "output_type": "stream",
     "text": [
      "May 16th, 2023\n"
     ]
    }
   ],
   "source": [
    "# Playing around with basic date stuff\n",
    "today = ql.Date(17,5,2023)\n",
    "\n",
    "# Check if a date is a tuesday\n",
    "today.weekday() == ql.Wednesday\n",
    "\n",
    "# Check if a date is a tuesday\n",
    "today.weekday() == ql.Sunday\n",
    "\n",
    "# Arithmetic with dates\n",
    "yesterday = today - 1\n",
    "tomorrow = today + 1\n",
    "print(yesterday)\n",
    "\n",
    "a_year_from_now = today + ql.Period(1, ql.Years)"
   ]
  },
  {
   "cell_type": "code",
   "execution_count": 19,
   "metadata": {},
   "outputs": [
    {
     "data": {
      "text/plain": [
       "[Date(15,6,2020),\n",
       " Date(15,12,2020),\n",
       " Date(15,6,2021),\n",
       " Date(15,12,2021),\n",
       " Date(15,6,2022)]"
      ]
     },
     "execution_count": 19,
     "metadata": {},
     "output_type": "execute_result"
    }
   ],
   "source": [
    "# The Schedule object can be used to construct a list of dates such as coupon payments.\n",
    "effectiveDate = ql.Date(15,6,2020)\n",
    "terminationDate = ql.Date(15,6,2022)\n",
    "frequency = ql.Period('6M')\n",
    "calendar = ql.TARGET()\n",
    "convention = ql.ModifiedFollowing\n",
    "terminationDateConvention = ql.ModifiedFollowing\n",
    "rule = ql.DateGeneration.Backward\n",
    "endOfMonth = False\n",
    "schedule = ql.Schedule(effectiveDate, terminationDate, frequency, calendar, convention, terminationDateConvention, rule, endOfMonth)\n",
    "list(schedule)"
   ]
  },
  {
   "attachments": {},
   "cell_type": "markdown",
   "metadata": {},
   "source": [
    "# Fixed rate bond pricing\n",
    "Let's consider a hypothetical bond \n",
    "- par value of 100\n",
    "- pays 6% coupon \n",
    "- semi-annually \n",
    "- issued on January 15th, 2015 \n",
    "- mature on January 15th, 2016. \n",
    "The bond will pay a coupon on July 15th, 2015 and January 15th, 2016. \n",
    "The par amount of 100 will also be paid on the January 15th, 2016.\n",
    "\n",
    "To make things simpler, let's assume that we know the spot rates of the treasury as of January 15th, 2015.\n",
    "The annualized spot rates are \n",
    "- 0.5% for 6 months \n",
    "- 0.7% for 1 year point. "
   ]
  },
  {
   "attachments": {},
   "cell_type": "markdown",
   "metadata": {},
   "source": [
    "## Example 1"
   ]
  },
  {
   "cell_type": "code",
   "execution_count": 43,
   "metadata": {},
   "outputs": [
    {
     "data": {
      "text/plain": [
       "105.27653992490683"
      ]
     },
     "execution_count": 43,
     "metadata": {},
     "output_type": "execute_result"
    }
   ],
   "source": [
    "# Evaluation of metrics will happen on this day\n",
    "todays_date = ql.Date(15, 1, 2015)\n",
    "ql.Settings.instance().evaluationDate = todays_date\n",
    "\n",
    "# Assuming a term structure for the calculation\n",
    "spot_dates = [ql.Date(15, 1, 2015), ql.Date(15, 7, 2015), ql.Date(15, 1, 2016)]\n",
    "spot_rates = [0.0, 0.005, 0.007]\n",
    "\n",
    "# Day count convention\n",
    "day_count = ql.Thirty360(ql.Thirty360.BondBasis)\n",
    "\n",
    "# There are different types of calendars used in the US so explicitly have to be specified in the constructor\n",
    "calendar = ql.UnitedStates(ql.UnitedStates.NYSE)\n",
    "\n",
    "\n",
    "interpolation = ql.Linear()\n",
    "compounding = ql.Compounded\n",
    "compounding_frequency = ql.Annual\n",
    "spot_curve = ql.ZeroCurve(spot_dates, spot_rates, day_count, calendar, interpolation, compounding, compounding_frequency)\n",
    "spot_curve_handle = ql.YieldTermStructureHandle(spot_curve)\n",
    "\n",
    "issue_date = ql.Date(15, 1, 2015)\n",
    "maturity_date = ql.Date(15, 1, 2016)\n",
    "tenor = ql.Period(ql.Semiannual)\n",
    "\n",
    "\n",
    "bussiness_convention = ql.Unadjusted\n",
    "date_generation = ql.DateGeneration.Backward\n",
    "month_end = False\n",
    "schedule = ql.Schedule (issue_date, maturity_date, tenor, calendar, bussiness_convention, bussiness_convention , date_generation, month_end)\n",
    "list(schedule)\n",
    "#[Date(15, 1, 12015), Date(15,7,2015), Date(15,1,2016)]\n",
    "\n",
    "\n",
    "# Now lets build the coupon\n",
    "coupon_rate = .06\n",
    "coupons = [coupon_rate]\n",
    "\n",
    "# Now lets construct the FixedRateBond\n",
    "settlement_days = 0\n",
    "face_value = 100\n",
    "fixed_rate_bond = ql.FixedRateBond(settlement_days, face_value, schedule, coupons, day_count)\n",
    "\n",
    "# create a bond engine with the term structure as input;\n",
    "# set the bond to use this bond engine\n",
    "bond_engine = ql.DiscountingBondEngine(spot_curve_handle)\n",
    "fixed_rate_bond.setPricingEngine(bond_engine)\n",
    "\n",
    "# Finally the price 105.27653992490683\n",
    "fixed_rate_bond.NPV()"
   ]
  },
  {
   "attachments": {},
   "cell_type": "markdown",
   "metadata": {},
   "source": [
    "## Example 2"
   ]
  },
  {
   "cell_type": "code",
   "execution_count": null,
   "metadata": {},
   "outputs": [],
   "source": [
    "# We are valuing this bond at this date\n",
    "valuation_date = ql.Date(30, 6, 2020)\n",
    "ql.Settings.instance().evaluationDate = valuation_date\n",
    "\n",
    "# Creating a schedule of cash flows\n",
    "schedule = ql.Schedule(ql.Date(7, 5, 2016), ql.Date(15, 8, 2024), ql.Period(ql.Semiannual), ql.NullCalendar(), ql.Following, ql.Following, ql.DateGeneration.Forward, True)\n",
    "\n",
    "fixedRateBond = ql.FixedRateBond(0, 100, schedule, [0.05], ql.ActualActual(ql.ActualActual.ISMA, schedule))\n",
    "\n",
    "curve = ql.FlatForward(valuation_date, ql.QuoteHandle(ql.SimpleQuote(0.05)), ql.Actual360(), ql.Compounded)\n",
    "handle = ql.YieldTermStructureHandle(curve)\n",
    "\n",
    "bondEngine = ql.DiscountingBondEngine(handle)\n",
    "\n",
    "fixedRateBond.setPricingEngine(bondEngine)\n",
    "\n",
    "irr = fixedRateBond.bondYield(fixedRateBond.NPV(), ql.Actual360(), ql.Compounded, ql.Semiannual, valuation_date)\n",
    "print('NPV:', fixedRateBond.NPV())\n",
    "print('IRR:', irr)\n",
    "print('Clean Price:', fixedRateBond.cleanPrice(irr, ql.Actual360(), ql.Compounded, ql.Semiannual, valuation_date))\n",
    "print('Dirty Price:', fixedRateBond.dirtyPrice(irr, ql.Actual360(), ql.Compounded, ql.Semiannual, valuation_date))\n",
    "print('Accrued Interest:', fixedRateBond.accruedAmount(ql.Date(30, 6, 2020)))\n"
   ]
  },
  {
   "cell_type": "code",
   "execution_count": null,
   "metadata": {},
   "outputs": [],
   "source": []
  }
 ],
 "metadata": {
  "kernelspec": {
   "display_name": "Python 3",
   "language": "python",
   "name": "python3"
  },
  "language_info": {
   "codemirror_mode": {
    "name": "ipython",
    "version": 3
   },
   "file_extension": ".py",
   "mimetype": "text/x-python",
   "name": "python",
   "nbconvert_exporter": "python",
   "pygments_lexer": "ipython3",
   "version": "3.11.3"
  },
  "orig_nbformat": 4
 },
 "nbformat": 4,
 "nbformat_minor": 2
}
